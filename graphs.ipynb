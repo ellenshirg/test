{
 "cells": [
  {
   "cell_type": "code",
   "execution_count": 23,
   "metadata": {},
   "outputs": [
    {
     "name": "stdout",
     "output_type": "stream",
     "text": [
      "['0', '2', '3', '4', '6', '5', '1', '7']\n"
     ]
    }
   ],
   "source": [
    "graph = {'0':['1', '2'],\n",
    "         '1':['0', '7'],\n",
    "         '2':['0', '3'],\n",
    "         '3':['2', '4'],\n",
    "         '4':['3', '5', '6'],\n",
    "         '5':['4'],\n",
    "         '6':['4'], \n",
    "         '7':['1']}\n",
    "\n",
    "def dfs(graph, start):             #Поиск в глубину вариант 1 (рекурсивно)\n",
    "        visited, stack = [], [start]\n",
    "        while stack:\n",
    "            vertex = stack.pop()\n",
    "            if vertex not in visited:\n",
    "                visited.append(vertex)\n",
    "                stack.extend(set(graph[vertex]) - set(visited))     #set - множество (все элементы без повторов)\n",
    "        return visited\n",
    "print(dfs(graph, '0'))\n",
    "        \n"
   ]
  },
  {
   "cell_type": "code",
   "execution_count": 24,
   "metadata": {},
   "outputs": [
    {
     "name": "stdout",
     "output_type": "stream",
     "text": [
      "['0', '2', '3', '4', '6', '5', '1', '7']\n"
     ]
    }
   ],
   "source": [
    "def interactive_dfs(graph, start, path = None):    #Поиск в глубину, вариант 2\n",
    "    if path is None:\n",
    "        path = []\n",
    "    q = [start]\n",
    "    while q:\n",
    "        v = q.pop()\n",
    "        if v not in path:\n",
    "            path = path + [v]\n",
    "            q += graph[v]\n",
    "    return path\n",
    "\n",
    "print(interactive_dfs(graph, '0'))"
   ]
  },
  {
   "cell_type": "code",
   "execution_count": 26,
   "metadata": {},
   "outputs": [
    {
     "name": "stdout",
     "output_type": "stream",
     "text": [
      "[['4', '3', '2', '0', '1', '7']]\n"
     ]
    }
   ],
   "source": [
    "def dfs_paths(graph, start, goal):              #Поиск пути между вершинами\n",
    "    stack = [(start,[start])]   #vertex, path\n",
    "    while stack:\n",
    "        (vertex, path) = stack.pop()\n",
    "        for next in set(graph[vertex]) - set(path):\n",
    "            if next == goal:\n",
    "                yield path + [next]\n",
    "            else:\n",
    "                stack.append((next, path + [next]))\n",
    "                \n",
    "print(list(dfs_paths(graph, '4', '7')))"
   ]
  },
  {
   "cell_type": "code",
   "execution_count": 29,
   "metadata": {},
   "outputs": [
    {
     "name": "stdout",
     "output_type": "stream",
     "text": [
      "['0', '1', '2', '7', '3', '4', '5', '6']\n"
     ]
    }
   ],
   "source": [
    "from queue import deque             #Поиск в ширину\n",
    "\n",
    "def bfs(graph, start):\n",
    "    visited, queue = [], deque([start])\n",
    "    while queue:\n",
    "        vertex = queue.pop()\n",
    "        if vertex not in visited:\n",
    "            visited.append(vertex)\n",
    "            queue.extendleft(set(graph[vertex]) - set(visited))\n",
    "    return visited\n",
    "\n",
    "print(bfs(graph, '0'))\n",
    "    "
   ]
  },
  {
   "cell_type": "code",
   "execution_count": null,
   "metadata": {
    "collapsed": true
   },
   "outputs": [],
   "source": []
  }
 ],
 "metadata": {
  "kernelspec": {
   "display_name": "Python 3",
   "language": "python",
   "name": "python3"
  },
  "language_info": {
   "codemirror_mode": {
    "name": "ipython",
    "version": 3
   },
   "file_extension": ".py",
   "mimetype": "text/x-python",
   "name": "python",
   "nbconvert_exporter": "python",
   "pygments_lexer": "ipython3",
   "version": "3.6.3"
  }
 },
 "nbformat": 4,
 "nbformat_minor": 2
}
